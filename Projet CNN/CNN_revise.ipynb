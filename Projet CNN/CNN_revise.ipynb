{
 "cells": [
  {
   "cell_type": "code",
   "execution_count": 1,
   "metadata": {},
   "outputs": [],
   "source": [
    "#Les imports ici\n",
    "\n",
    "import os #Permet d'acceder au csv\n",
    "\n",
    "import pandas as pd #Lire csv, \n",
    "\n",
    "import unicodedata #pour checker comment sont les charactères\n",
    "\n",
    "import torch \n",
    "\n",
    "from PIL import Image #Dans le __getitem__ du dataset pour ouvrir l'image dans le dataset\n",
    "\n",
    "from torch.utils.data import DataLoader, Dataset #Pour créer les train/test_loader et le dataset lié au image/artistes\n",
    "\n",
    "import torchvision.transforms as transforms #pour la transformation utiliser du a notre pre-tained model\n",
    "\n",
    "from torchvision import models #Va nous servir a recup le model resNet50 pré-entrainé\n",
    "\n",
    "import torch.nn as nn #Va nous servir a remplacer la dernière couche du modèle par le nombre de classe qu'on veut en sorti (le nb d'artiste)\n",
    "\n",
    "from tqdm import tqdm #Utile pour voir la progression de l'entrainement\n",
    "\n",
    "import torch.optim as optim"
   ]
  },
  {
   "cell_type": "markdown",
   "metadata": {},
   "source": [
    "### On essaiera d'affiné le résultat de notre CNN sans se soucié du modèle pré-entrainer utilisé pour le moment.\n",
    "\n",
    "##### Pour le première essais On utilise la donnée comme tel __SANS data-augmentation__\n",
    "##### Model pré-entrainer: __resNet50__\n",
    "##### On utilise uniquement le __nom__ de nos artistes lors de ce premier essais"
   ]
  },
  {
   "cell_type": "code",
   "execution_count": 2,
   "metadata": {},
   "outputs": [
    {
     "name": "stdout",
     "output_type": "stream",
     "text": [
      "['Amedeo_Modigliani', 'Vasiliy_Kandinskiy', 'Diego_Rivera', 'Claude_Monet', 'Rene_Magritte', 'Salvador_Dali', 'Edouard_Manet', 'Andrei_Rublev', 'Vincent_van_Gogh', 'Gustav_Klimt', 'Hieronymus_Bosch', 'Kazimir_Malevich', 'Mikhail_Vrubel', 'Pablo_Picasso', 'Peter_Paul_Rubens', 'Pierre-Auguste_Renoir', 'Francisco_Goya', 'Frida_Kahlo', 'El_Greco', 'Albrecht_Dürer', 'Alfred_Sisley', 'Pieter_Bruegel', 'Marc_Chagall', 'Giotto_di_Bondone', 'Sandro_Botticelli', 'Caravaggio', 'Leonardo_da_Vinci', 'Diego_Velazquez', 'Henri_Matisse', 'Jan_van_Eyck', 'Edgar_Degas', 'Rembrandt', 'Titian', 'Henri_de_Toulouse-Lautrec', 'Gustave_Courbet', 'Camille_Pissarro', 'William_Turner', 'Edvard_Munch', 'Paul_Cezanne', 'Eugene_Delacroix', 'Henri_Rousseau', 'Georges_Seurat', 'Paul_Klee', 'Piet_Mondrian', 'Joan_Miro', 'Andy_Warhol', 'Paul_Gauguin', 'Raphael', 'Michelangelo', 'Jackson_Pollock']\n"
     ]
    }
   ],
   "source": [
    "#Acceder au csv\n",
    "\n",
    "dir = './art-challenge'\n",
    "path = os.path.join(dir, 'artists.csv')\n",
    "\n",
    "#Charger le csv\n",
    "\n",
    "artists_df = pd.read_csv(path) #df pour data frame\n",
    "\n",
    "#On va créer un dictionnaire {artist_name : index_associé}\n",
    "\n",
    "artists = artists_df[\"name\"].unique()\n",
    "\n",
    "def espaceReplacement(name): #On va remplacer les espaces par _ pour que ça correspondent au nom des file d'image\n",
    "    return ''.join(c if unicodedata.category(c) != 'Zs' else '_' for c in name)\n",
    "\n",
    "artists = [espaceReplacement(artist) for artist in artists] #La on a tous les artistes\n",
    "\n",
    "print(artists)\n",
    "\n",
    "artist_to_idx = {artist: idx for (idx, artist) in enumerate(artists)} #Voici le dictionnaire\n"
   ]
  },
  {
   "cell_type": "markdown",
   "metadata": {},
   "source": [
    "#### on crée le dataset de toutes les images d'un folder, on leur donnera le label/index associé à l'artiste de l'image."
   ]
  },
  {
   "cell_type": "code",
   "execution_count": 8,
   "metadata": {},
   "outputs": [],
   "source": [
    "class ArtDataset(Dataset):\n",
    "    def __init__(self, artist_to_idx, image_folder, transformation):\n",
    "        self.artist_to_idx = artist_to_idx\n",
    "        self.image_folder = image_folder\n",
    "        self.transformation = transformation\n",
    "        self.data = {} #dictionnaire { image_path: label/index_associé}\n",
    "        self.image_path= [] #on veut pouvoir garder les paths pour utiliser l'index dans __getitem__\n",
    "\n",
    "        for img_file in os.listdir(self.image_folder): #os.listdir(image_folder) liste tout les files dans image_folder \n",
    "            artist_name = img_file.rsplit('_',1)[0] #la on divise apres le dernier '_' \n",
    "            if artist_name in self.artist_to_idx:\n",
    "                label = self.artist_to_idx[artist_name]\n",
    "                img_path = os.path.join(self.image_folder, img_file)\n",
    "                self.data[img_path] = label\n",
    "                self.image_path.append(img_path)\n",
    "            else:\n",
    "                print(f\"Avertissement: '{artist_name}' ne se trouve pas dans ton dictionnaire\")\n",
    "\n",
    "    def __len__(self):\n",
    "        return len(self.data)\n",
    "\n",
    "    def __getitem__(self, index):\n",
    "        img_path = self.image_path[index]\n",
    "        label = self.data[img_path]\n",
    "        image = Image.open(img_path).convert('RGB') #On doit convertir en RGB car certaine image sont en niveau de gris (1 canal) et d'autre en couleur\n",
    "        if self.transformation:\n",
    "            image = self.transformation(image)\n",
    "        return image, label\n",
    "    "
   ]
  },
  {
   "cell_type": "code",
   "execution_count": 9,
   "metadata": {},
   "outputs": [],
   "source": [
    "#On va transformer les images, pour avoir des images de tailles uniforme mais aussi qui correspondent au standard utilisé par resNet50\n",
    "\n",
    "transformation = transforms.Compose([\n",
    "    transforms.Resize((224, 224)),  # Taille d'entrée ResNet50\n",
    "    transforms.ToTensor(),  #redim les valeurs de pixels de [0, 255] à [0, 1] et c'est les tenseurs sont les formats requis pour des réseaux de neuronnes Pytorch\n",
    "    transforms.Normalize([0.485, 0.456, 0.406], [0.229, 0.224, 0.225])  # Normalisation pour ResNet, Ces valeurs sont calculées à partir de la base de données ImageNet (sur laquelle ResNet est pré-entraîné)\n",
    "])\n",
    "\n",
    "lq_folder = './art-challenge/images_lq'\n",
    "dataset = ArtDataset(artist_to_idx, lq_folder , transformation)\n",
    "\n",
    "train_size = int(len(dataset)*0.7) #On prend 80% pour le training, Attention on peut pas prendre de float!\n",
    "val_size = int(len(dataset)*0.15)\n",
    "test_size = len(dataset) - train_size - val_size\n",
    "\n",
    "train_dataset, val_dataset ,test_dataset = torch.utils.data.random_split(dataset, [train_size, val_size ,test_size])\n",
    "#La c'est des sous-ensemble du dataset initial \n",
    "\n",
    "train_loader = DataLoader(train_dataset, batch_size=32, shuffle=True)\n",
    "#Plus besoin de shuffle ici vu que ça fait plus parti de l'entrainement du model\n",
    "val_loader = DataLoader(val_dataset, batch_size=32, shuffle=False)\n",
    "test_loader = DataLoader(test_dataset, batch_size=32, shuffle=False)"
   ]
  },
  {
   "cell_type": "code",
   "execution_count": 10,
   "metadata": {},
   "outputs": [
    {
     "name": "stdout",
     "output_type": "stream",
     "text": [
      "(tensor([[[0.8789, 0.7933, 0.6563,  ..., 0.4337, 0.4851, 0.4337],\n",
      "         [0.6563, 0.6221, 0.6221,  ..., 0.1768, 0.2282, 0.2796],\n",
      "         [0.5193, 0.4508, 0.4337,  ..., 0.1426, 0.1083, 0.2282],\n",
      "         ...,\n",
      "         [0.8104, 0.6563, 0.6049,  ..., 0.8276, 0.8104, 0.8447],\n",
      "         [0.8618, 0.7419, 0.6906,  ..., 0.7933, 0.8104, 0.8789],\n",
      "         [0.8789, 0.7419, 0.6734,  ..., 0.8104, 0.8789, 0.8961]],\n",
      "\n",
      "        [[1.0280, 0.9405, 0.8004,  ..., 0.5728, 0.6254, 0.5728],\n",
      "         [0.8004, 0.7654, 0.7654,  ..., 0.3102, 0.3627, 0.4153],\n",
      "         [0.6604, 0.5903, 0.5728,  ..., 0.2752, 0.2402, 0.3627],\n",
      "         ...,\n",
      "         [0.9580, 0.8004, 0.7479,  ..., 0.9755, 0.9580, 0.9930],\n",
      "         [1.0105, 0.8880, 0.8354,  ..., 0.9405, 0.9580, 1.0280],\n",
      "         [1.0280, 0.8880, 0.8179,  ..., 0.9580, 1.0280, 1.0455]],\n",
      "\n",
      "        [[1.2457, 1.1585, 1.0191,  ..., 0.7925, 0.8448, 0.7925],\n",
      "         [1.0191, 0.9842, 0.9842,  ..., 0.5311, 0.5834, 0.6356],\n",
      "         [0.8797, 0.8099, 0.7925,  ..., 0.4962, 0.4614, 0.5834],\n",
      "         ...,\n",
      "         [1.1759, 1.0191, 0.9668,  ..., 1.1934, 1.1759, 1.2108],\n",
      "         [1.2282, 1.1062, 1.0539,  ..., 1.1585, 1.1759, 1.2457],\n",
      "         [1.2457, 1.1062, 1.0365,  ..., 1.1759, 1.2457, 1.2631]]]), 19)\n"
     ]
    }
   ],
   "source": [
    "print(dataset[0]) #parfait, l'index 19 correspond bien a Dürer"
   ]
  },
  {
   "cell_type": "markdown",
   "metadata": {},
   "source": [
    "#### On a récupéré les dataloader, on les utilisera durant la phase d'entrainement et de test\n",
    "\n",
    "#### Il faut maintenant chargé le modèle resnet50 pré-entrainé et changer la derniere couche pour qu'elle correspondent au nombre d'artiste dans notre csv"
   ]
  },
  {
   "cell_type": "code",
   "execution_count": 50,
   "metadata": {},
   "outputs": [
    {
     "name": "stderr",
     "output_type": "stream",
     "text": [
      "Downloading: \"https://download.pytorch.org/models/resnet50-11ad3fa6.pth\" to C:\\Users\\benad/.cache\\torch\\hub\\checkpoints\\resnet50-11ad3fa6.pth\n",
      "100%|██████████| 97.8M/97.8M [00:21<00:00, 4.67MB/s]\n"
     ]
    }
   ],
   "source": [
    "model = models.resnet50(weights='DEFAULT') #On charge le modèle\n",
    "\n",
    "avant_derniere_couche = model.fc.in_features #On recup la taille de l'avant derniere couche\n",
    "model.fc = nn.Linear(avant_derniere_couche, len(artists)) #On a change la derniere couche\n",
    "\n",
    "#A partir de la on va commencer a entrainer donc on place le device dans cuda pour utiliser le gpu\n",
    "\n",
    "device = torch.device(\"cuda\" if torch.cuda.is_available() else \"cpu\")\n",
    "model = model.to(device) #On déplace le modèle dedans"
   ]
  },
  {
   "cell_type": "code",
   "execution_count": 11,
   "metadata": {},
   "outputs": [
    {
     "data": {
      "text/plain": [
       "True"
      ]
     },
     "execution_count": 11,
     "metadata": {},
     "output_type": "execute_result"
    }
   ],
   "source": [
    "#On regarde si on est bien sur le gpu\n",
    "\n",
    "torch.cuda.is_available()"
   ]
  },
  {
   "cell_type": "code",
   "execution_count": 70,
   "metadata": {},
   "outputs": [],
   "source": [
    "criterion = nn.CrossEntropyLoss()\n",
    "optimize = optim.Adam(model.parameters(), lr=0.001)\n",
    "\n",
    "def training(num_epochs, model, criterion,optimizer):\n",
    "\n",
    "    for epoch in range(num_epochs):\n",
    "        model.train()\n",
    "        total_train_loss= []\n",
    "        t = tqdm(train_loader)\n",
    "        for image, label in t:\n",
    "            image, label = image.to(device), label.to(device)\n",
    "            outputs = model(image)\n",
    "            loss = criterion(outputs, label)\n",
    "\n",
    "            optimizer.zero_grad() #on remet a zero les gradients pour pas que ça s'accumule\n",
    "            loss.backward()\n",
    "            optimizer.step()\n",
    "\n",
    "            total_train_loss.append(loss.item())\n",
    "\n",
    "        avg_train_loss = sum(total_train_loss)/ len(train_loader)\n",
    "\n",
    "        model.eval()\n",
    "        total_val_loss = []\n",
    "        correct = 0\n",
    "        with torch.no_grad(): #Permet de ne plus mettre a jour les poids \n",
    "            for image, label in val_loader:\n",
    "                image, label = image.to(device), label.to(device)\n",
    "                outputs = model(image)\n",
    "                val_loss = criterion(outputs, label)\n",
    "                _, predicted = torch.max(outputs,1) #permet d'obtenir quelle classe la plus grande proba, donc quelle a ete la prediction\n",
    "                correct += (predicted == label).sum().item() #?\n",
    "                total_val_loss.append(val_loss.item())\n",
    "\n",
    "        avg_val_loss = sum(total_val_loss)/len(val_loader)\n",
    "\n",
    "        print(f\"Epoch {epoch+1}/{num_epochs}, Train Loss: {avg_train_loss:.4f}, Avg Val Loss: {avg_val_loss:.4f}\")\n",
    "\n",
    "\n",
    "    model.eval()\n",
    "    total_test_loss=[]\n",
    "    correct_test = 0\n",
    "    total_test=0\n",
    "    with torch.no_grad():\n",
    "        for image,label in test_loader:\n",
    "            image, label = image.to(device), label.to(device)\n",
    "            outputs = model(image)\n",
    "            test_loss = criterion(outputs, label)\n",
    "            _, predicted_test = torch.max(outputs, 1)\n",
    "            correct_test += (predicted_test == label).sum().item()\n",
    "            total_test_loss.append(test_loss.item())\n",
    "            total_test += label.size(0)\n",
    "\n",
    "    avg_test_loss = sum(total_test_loss)/len(test_loader)\n",
    "    accuracy = correct_test/total_test*100\n",
    "    print(f\"Test Loss: {avg_test_loss:.4f}, test Accuracy: {accuracy:.4f} \")\n",
    "    "
   ]
  },
  {
   "cell_type": "code",
   "execution_count": 71,
   "metadata": {},
   "outputs": [
    {
     "name": "stderr",
     "output_type": "stream",
     "text": [
      "100%|██████████| 183/183 [01:53<00:00,  1.61it/s]\n"
     ]
    },
    {
     "name": "stdout",
     "output_type": "stream",
     "text": [
      "Epoch 1/10, Train Loss: 0.1404, Avg Val Loss: 1.4788\n"
     ]
    },
    {
     "name": "stderr",
     "output_type": "stream",
     "text": [
      "100%|██████████| 183/183 [01:52<00:00,  1.62it/s]\n"
     ]
    },
    {
     "name": "stdout",
     "output_type": "stream",
     "text": [
      "Epoch 2/10, Train Loss: 0.0851, Avg Val Loss: 1.8157\n"
     ]
    },
    {
     "name": "stderr",
     "output_type": "stream",
     "text": [
      "100%|██████████| 183/183 [01:56<00:00,  1.57it/s]\n"
     ]
    },
    {
     "name": "stdout",
     "output_type": "stream",
     "text": [
      "Epoch 3/10, Train Loss: 0.0749, Avg Val Loss: 2.3081\n"
     ]
    },
    {
     "name": "stderr",
     "output_type": "stream",
     "text": [
      "100%|██████████| 183/183 [01:54<00:00,  1.60it/s]\n"
     ]
    },
    {
     "name": "stdout",
     "output_type": "stream",
     "text": [
      "Epoch 4/10, Train Loss: 0.0989, Avg Val Loss: 1.9172\n"
     ]
    },
    {
     "name": "stderr",
     "output_type": "stream",
     "text": [
      "100%|██████████| 183/183 [01:53<00:00,  1.61it/s]\n"
     ]
    },
    {
     "name": "stdout",
     "output_type": "stream",
     "text": [
      "Epoch 5/10, Train Loss: 0.0762, Avg Val Loss: 1.6831\n"
     ]
    },
    {
     "name": "stderr",
     "output_type": "stream",
     "text": [
      "100%|██████████| 183/183 [01:52<00:00,  1.62it/s]\n"
     ]
    },
    {
     "name": "stdout",
     "output_type": "stream",
     "text": [
      "Epoch 6/10, Train Loss: 0.0795, Avg Val Loss: 1.5242\n"
     ]
    },
    {
     "name": "stderr",
     "output_type": "stream",
     "text": [
      "100%|██████████| 183/183 [01:54<00:00,  1.59it/s]\n"
     ]
    },
    {
     "name": "stdout",
     "output_type": "stream",
     "text": [
      "Epoch 7/10, Train Loss: 0.0454, Avg Val Loss: 1.5140\n"
     ]
    },
    {
     "name": "stderr",
     "output_type": "stream",
     "text": [
      "100%|██████████| 183/183 [01:54<00:00,  1.59it/s]\n"
     ]
    },
    {
     "name": "stdout",
     "output_type": "stream",
     "text": [
      "Epoch 8/10, Train Loss: 0.0521, Avg Val Loss: 1.7221\n"
     ]
    },
    {
     "name": "stderr",
     "output_type": "stream",
     "text": [
      "100%|██████████| 183/183 [01:56<00:00,  1.57it/s]\n"
     ]
    },
    {
     "name": "stdout",
     "output_type": "stream",
     "text": [
      "Epoch 9/10, Train Loss: 0.0712, Avg Val Loss: 1.9549\n"
     ]
    },
    {
     "name": "stderr",
     "output_type": "stream",
     "text": [
      "100%|██████████| 183/183 [01:55<00:00,  1.59it/s]\n"
     ]
    },
    {
     "name": "stdout",
     "output_type": "stream",
     "text": [
      "Epoch 10/10, Train Loss: 0.0597, Avg Val Loss: 1.4783\n",
      "Test Loss: 1.3721, test Accuracy: 69.3780 \n"
     ]
    }
   ],
   "source": [
    "training(10, model, criterion, optimize)"
   ]
  },
  {
   "cell_type": "code",
   "execution_count": null,
   "metadata": {},
   "outputs": [],
   "source": []
  },
  {
   "cell_type": "markdown",
   "metadata": {},
   "source": [
    "### Les prochaines ameliorations possible sont soit de faire de la data augmentation pour homogénéïsé le nombre d'image pour chaque artiste\n",
    "### ou bien on peut trouver un moyen d'utiliser les autres données dans notre csv comme la biographie des auteurs."
   ]
  },
  {
   "cell_type": "markdown",
   "metadata": {},
   "source": [
    "#### On commence par la 2eme amelioration ( ajouter de nouvelle caractéristique). ON les ajoute directement a notre pipeline ArtDataset"
   ]
  },
  {
   "cell_type": "code",
   "execution_count": 41,
   "metadata": {},
   "outputs": [
    {
     "name": "stdout",
     "output_type": "stream",
     "text": [
      "{'Amedeo Modigliani': {'id': 0, 'years': '1884 - 1920', 'genre': 'Expressionism', 'nationality': 'Italian', 'bio': \"Amedeo Clemente Modigliani (Italian pronunciation: [ameˈdɛːo modiʎˈʎaːni]; 12 July 1884 – 24 January 1920) was an Italian Jewish painter and sculptor who worked mainly in France. He is known for portraits and nudes in a modern style characterized by elongation of faces, necks, and figures that were not received well during his lifetime but later found acceptance. Modigliani spent his youth in Italy, where he studied the art of antiquity and the Renaissance. In 1906 he moved to Paris, where he came into contact with such artists as Pablo Picasso and Constantin Brâncuși. By 1912 Modigliani was exhibiting highly stylized sculptures with Cubists of the Section d'Or group at the Salon d'Automne.\", 'wikipedia': 'http://en.wikipedia.org/wiki/Amedeo_Modigliani', 'paintings': 193}, 'Vasiliy Kandinskiy': {'id': 1, 'years': '1866 - 1944', 'genre': 'Expressionism,Abstractionism', 'nationality': 'Russian', 'bio': 'Wassily Wassilyevich Kandinsky (Russian: Васи́лий Васи́льевич Канди́нский, tr. Vasíliy Vasílʹevich Kandínskiy) (16 December [O.S. 4 December] 1866 – 13 December 1944) was a Russian painter and art theorist.', 'wikipedia': 'http://en.wikipedia.org/wiki/Wassily_Kandinsky', 'paintings': 88}, 'Diego Rivera': {'id': 2, 'years': '1886 - 1957', 'genre': 'Social Realism,Muralism', 'nationality': 'Mexican', 'bio': 'Diego María de la Concepción Juan Nepomuceno Estanislao de la Rivera y Barrientos Acosta y Rodríguez, known as Diego Rivera (Spanish pronunciation: [ˈdjeɣo riˈβeɾa]; December 8, 1886 – November 24, 1957) was a prominent Mexican painter. His large frescoes helped establish the Mexican mural movement in Mexican art. Between 1922 and 1953, Rivera painted murals in, among other places, Mexico City, Chapingo, Cuernavaca, San Francisco, Detroit, and New York City. In 1931, a retrospective exhibition of his works was held at the Museum of Modern Art in New York. Rivera had a volatile marriage with fellow Mexican artist Frida Kahlo.', 'wikipedia': 'http://en.wikipedia.org/wiki/Diego_Rivera', 'paintings': 70}, 'Claude Monet': {'id': 3, 'years': '1840 - 1926', 'genre': 'Impressionism', 'nationality': 'French', 'bio': 'Oscar-Claude Monet (; French: [klod mɔnɛ]; 14 November 1840 – 5 December 1926) was a French painter, a founder of French Impressionist painting and the most consistent and prolific practitioner of the movement\\'s philosophy of expressing one\\'s perceptions before nature, especially as applied to plein air landscape painting. The term \"Impressionism\" is derived from the title of his painting Impression, soleil levant (Impression, Sunrise), which was exhibited in 1874 in the first of the independent exhibitions mounted by Monet and his associates as an alternative to the Salon de Paris.Monet\\'s ambition of documenting the French countryside led him to adopt a method of painting the same scene many times in order to capture the changing of light and the passing of the seasons. From 1883, Monet lived in Giverny, where he purchased a house and property and began a vast landscaping project which included lily ponds that would become the subjects of his best-known works. In 1899, he began painting the water lilies, first in vertical views with a Japanese bridge as a central feature and later in the series of large-scale paintings that was to occupy him continuously for the next 20 years of his life.', 'wikipedia': 'http://en.wikipedia.org/wiki/Claude_Monet', 'paintings': 73}, 'Rene Magritte': {'id': 4, 'years': '1898 - 1967', 'genre': 'Surrealism,Impressionism', 'nationality': 'Belgian', 'bio': \"René François Ghislain Magritte (French: [ʁəne fʁɑ̃swa ɡilɛ̃ maɡʁit]; 21 November 1898 – 15 August 1967) was a Belgian Surrealist artist. He became well known for creating a number of witty and thought-provoking images. Often depicting ordinary objects in an unusual context, his work is known for challenging observers' preconditioned perceptions of reality. His imagery has influenced Pop art, minimalist and conceptual art.\", 'wikipedia': 'http://en.wikipedia.org/wiki/René_Magritte', 'paintings': 194}, 'Salvador Dali': {'id': 5, 'years': '1904 - 1989', 'genre': 'Surrealism', 'nationality': 'Spanish', 'bio': 'Salvador Domingo Felipe Jacinto Dalí i Domènech, 1st Marquis of Dalí de Púbol (11 May 1904 – 23 January 1989), known professionally as Salvador Dalí (; Catalan: [səlβəˈðo ðəˈli]; Spanish: [salβaˈðoɾ ðaˈli]), was a prominent Spanish surrealist born in Figueres, Catalonia, Spain.', 'wikipedia': 'http://en.wikipedia.org/wiki/Salvador_Dalí', 'paintings': 139}, 'Edouard Manet': {'id': 6, 'years': '1832 - 1883', 'genre': 'Realism,Impressionism', 'nationality': 'French', 'bio': 'Édouard Manet (US: ; UK: ; French: [edwaʁ manɛ]; 23 January 1832 – 30 April 1883) was a French modernist painter. He was one of the first 19th-century artists to paint modern life, and a pivotal figure in the transition from Realism to Impressionism.', 'wikipedia': 'http://en.wikipedia.org/wiki/Édouard_Manet', 'paintings': 90}, 'Andrei Rublev': {'id': 7, 'years': '1360 - 1430', 'genre': 'Byzantine Art', 'nationality': 'Russian', 'bio': 'Andrei Rublev (Russian: Андре́й Рублёв, IPA: [ɐnˈdrʲej rʊˈblʲɵf], also transliterated as Andrey Rublyov; born in the 1360s, died 29 January 1427 or 1430, or 17 October 1428 in Moscow) is considered to be one of the greatest medieval Russian painters of Orthodox icons and frescos.', 'wikipedia': 'http://en.wikipedia.org/wiki/Andrei_Rublev', 'paintings': 99}, 'Vincent van Gogh': {'id': 8, 'years': '1853 – 1890', 'genre': 'Post-Impressionism', 'nationality': 'Dutch', 'bio': 'Vincent Willem van Gogh (Dutch: [ˈvɪnsɛnt ˈʋɪləm vɑŋ ˈɣɔx] (listen); 30 March 1853 – 29 July 1890) was a Dutch Post-Impressionist painter who is among the most famous and influential figures in the history of Western art. In just over a decade he created about 2,100 artworks, including around 860 oil paintings, most of them in the last two years of his life. They include landscapes, still lifes, portraits and self-portraits, and are characterised by bold colours and dramatic, impulsive and expressive brushwork that contributed to the foundations of modern art. However, he was not commercially successful, and his suicide at 37 followed years of mental illness and poverty.', 'wikipedia': 'http://en.wikipedia.org/wiki/Vincent_van_Gogh', 'paintings': 877}, 'Gustav Klimt': {'id': 9, 'years': '1862 - 1918', 'genre': 'Symbolism,Art Nouveau', 'nationality': 'Austrian', 'bio': \"Gustav Klimt (July 14, 1862 – February 6, 1918) was an Austrian symbolist painter and one of the most prominent members of the Vienna Secession movement. Klimt is noted for his paintings, murals, sketches, and other objets d'art. Klimt's primary subject was the female body, and his works are marked by a frank eroticism. In addition to his figurative works, which include allegories and portraits, he painted landscapes. Among the artists of the Vienna Secession, Klimt was the most influenced by Japanese art and its methods.\", 'wikipedia': 'http://en.wikipedia.org/wiki/Gustav_Klimt', 'paintings': 117}, 'Hieronymus Bosch': {'id': 10, 'years': '1450 - 1516', 'genre': 'Northern Renaissance', 'nationality': 'Dutch', 'bio': 'Hieronymus Bosch ( (listen); Dutch: [ɦijeːˈroːnimʏz ˈbɔs] (listen); born Jheronimus van Aken [jeːˈroːnimʏs fɑn ˈaːkə(n)]; c. 1450 – 9 August 1516) was a Dutch/Netherlandish draughtsman and painter from Brabant. He is one of the most notable representatives of the Early Netherlandish painting school. His work contains fantastic illustrations of religious concepts and narratives. Within his lifetime his work was collected in the Netherlands, Austria, and Spain, and widely copied, especially his macabre and nightmarish depictions of hell.', 'wikipedia': 'http://en.wikipedia.org/wiki/Hieronymus_Bosch', 'paintings': 137}, 'Kazimir Malevich': {'id': 11, 'years': '1879 - 1935', 'genre': 'Suprematism', 'nationality': 'Russian', 'bio': 'Kazimir Severinovich Malevich (February 23 [O.S. 11] 1879 – May 15, 1935) was a Russian avant-garde artist and art theorist, whose pioneering work and writing had a profound influence on the development of non-objective, or abstract art, in the 20th century. Born in Kiev to an ethnic Polish family, his concept of Suprematism sought to develop a form of expression that moved as far as possible from the world of natural forms (objectivity) and subject matter in order to access \"the supremacy of pure feeling\" and spirituality.Early on, Malevich worked in a variety of styles, quickly assimilating the movements of Impressionism, Symbolism and Fauvism, and after visiting Paris in 1912, Cubism. Gradually simplifying his style, he developed an approach with key works consisting of pure geometric forms and their relationships to one another, set against minimal grounds. His Black Square (1915), a black square on white, represented the most radically abstract painting known to have been created so far and drew \"an uncrossable line (…) between old art and new art\"; Suprematist Composition: White on White (1918), a barely differentiated off-white square superimposed on an off-white ground, would take his ideal of pure abstraction to its logical conclusion. In addition to his paintings, Malevich laid down his theories in writing, such as \"From Cubism and Futurism to Suprematism\" (1915) and The Non-Objective World: The Manifesto of Suprematism (1926).Malevich\\'s trajectory in many ways mirrored the tumult of the decades surrounding the October Revolution (O.S.) in 1917. In its immediate aftermath, vanguard movements such as Suprematism and Vladimir Tatlin\\'s Constructivism were encouraged by Trotskyite factions in the government. Malevich held several prominent teaching positions and received a solo show at the Sixteenth State Exhibition in Moscow in 1919. His recognition spread to the West with solo exhibitions in Warsaw and Berlin in 1927. Upon his return, modern art was falling out of favor with the new government of Joseph Stalin. Malevich soon lost his teaching position, artworks and manuscripts were confiscated, and he was banned from making art. In 1930, he was imprisoned for two months due to suspicions raised by his trip to Poland and Germany. Forced to abandon abstraction, he painted in a representational style in the years before his death from cancer in 1935, at the age of 56.', 'wikipedia': 'http://en.wikipedia.org/wiki/Kazimir_Malevich', 'paintings': 126}, 'Mikhail Vrubel': {'id': 12, 'years': '1856 - 1910', 'genre': 'Symbolism', 'nationality': 'Russian', 'bio': 'Mikhail Aleksandrovich Vrubel (Russian: Михаи́л Алекса́ндрович Вру́бель; March 17, 1856 – April 14, 1910, all n.s.) is usually regarded amongst the Russian painters of the Symbolist movement and of Art Nouveau. In reality, he deliberately stood aloof from contemporary art trends, so that the origin of his unusual manner should be sought in Late Byzantine and Early Renaissance painting.', 'wikipedia': 'http://en.wikipedia.org/wiki/Mikhail_Vrubel', 'paintings': 171}, 'Pablo Picasso': {'id': 13, 'years': '1881 - 1973', 'genre': 'Cubism', 'nationality': 'Spanish', 'bio': \"Pablo Ruiz Picasso (; Spanish: [ˈpaβlo piˈkaso]; 25 October 1881 – 8 April 1973) was a Spanish painter, sculptor, printmaker, ceramicist, stage designer, poet and playwright who spent most of his adult life in France. Regarded as one of the most influential artists of the 20th century, he is known for co-founding the Cubist movement, the invention of constructed sculpture, the co-invention of collage, and for the wide variety of styles that he helped develop and explore. Among his most famous works are the proto-Cubist Les Demoiselles d'Avignon (1907), and Guernica (1937), a dramatic portrayal of the bombing of Guernica by the German and Italian airforces during the Spanish Civil War.\", 'wikipedia': 'http://en.wikipedia.org/wiki/Pablo_Picasso', 'paintings': 439}, 'Peter Paul Rubens': {'id': 14, 'years': '1577 - 1640', 'genre': 'Baroque', 'nationality': 'Flemish', 'bio': \"Sir Peter Paul Rubens (; Dutch: [ˈrybə(n)s]; 28 June 1577 – 30 May 1640) was a Flemish artist. He is considered the most influential artist of Flemish Baroque tradition. Rubens's highly charged compositions reference erudite aspects of classical and Christian history. His unique and immensely popular Baroque style emphasized movement, color, and sensuality, which followed the immediate, dramatic artistic style promoted in the Counter-Reformation. Rubens specialized in making altarpieces, portraits, landscapes, and history paintings of mythological and allegorical subjects.\", 'wikipedia': 'http://en.wikipedia.org/wiki/Peter_Paul_Rubens', 'paintings': 141}, 'Pierre-Auguste Renoir': {'id': 15, 'years': '1841 - 1919', 'genre': 'Impressionism', 'nationality': 'French', 'bio': 'Pierre-Auguste Renoir, commonly known as Auguste Renoir (; French: [pjɛʁ oɡyst ʁənwaʁ]; 25 February 1841 – 3 December 1919), was a French artist who was a leading painter in the development of the Impressionist style. As a celebrator of beauty and especially feminine sensuality, it has been said that \"Renoir is the final representative of a tradition which runs directly from Rubens to Watteau.\"', 'wikipedia': 'http://en.wikipedia.org/wiki/Pierre-Auguste_Renoir', 'paintings': 336}, 'Francisco Goya': {'id': 16, 'years': '1746 - 1828', 'genre': 'Romanticism', 'nationality': 'Spanish', 'bio': 'Francisco José de Goya y Lucientes (; Spanish: [fɾanˈθisko xoˈse ðe ˈɣoʝa i luˈθjentes]; 30 March 1746 – 16 April 1828) was a Spanish romantic painter and printmaker. He is considered the most important Spanish artist of the late 18th and early 19th centuries and throughout his long career was a commentator and chronicler of his era. Immensely successful in his lifetime, Goya is often referred to as both the last of the Old Masters and the first of the moderns.  He was also one of the great contemporary portraitists.He was born to a modest family in 1746 in the village of Fuendetodos in Aragon. He studied painting from age 14 under José Luzán y Martinez and moved to Madrid to study with Anton Raphael Mengs. He married Josefa Bayeu in 1773; their life was characterised by an almost constant series of pregnancies and miscarriages, and only one child, a son, survived into adulthood. Goya became a court painter to the Spanish Crown in 1786 and this early portion of his career is marked by portraits of the Spanish aristocracy and royalty, and Rococo style tapestry cartoons designed for the royal palace.', 'wikipedia': 'http://en.wikipedia.org/wiki/Francisco_Goya', 'paintings': 291}, 'Frida Kahlo': {'id': 17, 'years': '1907 - 1954', 'genre': 'Primitivism,Surrealism', 'nationality': 'Mexican', 'bio': \"Frida Kahlo de Rivera (Spanish pronunciation: [ˈfɾiða ˈkalo]; born Magdalena Carmen Frida Kahlo y Calderón; 6 July 1907 – 13 July 1954) was a Mexican artist who painted many portraits, self-portraits and works inspired by the nature and artifacts of Mexico. Inspired by the country's popular culture, she employed a naïve folk art style to explore questions of identity, postcolonialism, gender, class and race in Mexican society. Her paintings often had strong autobiographical elements and mixed realism with fantasy. In addition to belonging to the post-revolutionary Mexicayotl movement, which sought to define a Mexican identity, Kahlo has been described as a surrealist or magical realist.Born to a German father and a mestiza mother, Kahlo spent most of her childhood and adult life at her family home in Coyoacán, La Casa Azul, now known and publicly accessible as the Frida Kahlo Museum. She was disabled by polio as a child. Until a traffic accident at age eighteen caused lifelong pain and medical problems, she had been a promising student headed for medical school. During her recovery, she returned to her childhood hobby of art with the idea of becoming an artist.\", 'wikipedia': 'http://en.wikipedia.org/wiki/Frida_Kahlo', 'paintings': 120}, 'El Greco': {'id': 18, 'years': '1541 - 1614', 'genre': 'Mannerism', 'nationality': 'Spanish,Greek', 'bio': 'Doménikos Theotokópoulos (Greek: Δομήνικος Θεοτοκόπουλος [ðoˈminikos θeotoˈkopulos]; October 1541 –  7 April 1614), most widely known as El Greco (\"The Greek\"), was a painter, sculptor and architect of the Spanish Renaissance. \"El Greco\" was a nickname, a reference to his Greek origin, and the artist normally signed his paintings with his full birth name in Greek letters, Δομήνικος Θεοτοκόπουλος, Doménikos Theotokópoulos, often adding the word Κρής Krēs, Cretan.', 'wikipedia': 'http://en.wikipedia.org/wiki/El_Greco', 'paintings': 87}, 'Albrecht Dürer': {'id': 19, 'years': '1471 - 1528', 'genre': 'Northern Renaissance', 'nationality': 'German', 'bio': 'Albrecht Dürer (; German: [ˈʔalbʁɛçt ˈdyːʁɐ]; 21 May 1471 – 6 April 1528) sometimes spelt in English as Durer or Duerer, without umlaut, was a painter, printmaker, and theorist of the German Renaissance. Born in Nuremberg, Dürer established his reputation and influence across Europe when he was still in his twenties due to his high-quality woodcut prints.', 'wikipedia': 'http://en.wikipedia.org/wiki/Albrecht_Dürer', 'paintings': 328}, 'Alfred Sisley': {'id': 20, 'years': '1839 - 1899', 'genre': 'Impressionism', 'nationality': 'French,British', 'bio': 'Alfred Sisley (; French: [sislɛ]; 30 October 1839 – 29 January 1899) was an Impressionist landscape painter who was born and spent most of his life in France, but retained British citizenship. He was the most consistent of the Impressionists in his dedication to painting landscape en plein air (i.e., outdoors). He deviated into figure painting only rarely and, unlike Renoir and Pissarro, found that Impressionism fulfilled his artistic needs.', 'wikipedia': 'http://en.wikipedia.org/wiki/Alfred_Sisley', 'paintings': 259}, 'Pieter Bruegel': {'id': 21, 'years': '1525 - 1569', 'genre': 'Northern Renaissance', 'nationality': 'Flemish', 'bio': 'Pieter Bruegel (also Brueghel) the Elder (Dutch: [ˈpitər ˈbrøːɣəɫ]; c. 1525-1530 – 9 September 1569) was the most significant artist of Dutch and Flemish Renaissance painting, a painter and printmaker from Brabant, known for his landscapes and peasant scenes (so called genre painting); he was a pioneer in making both types of subject the focus in large paintings.', 'wikipedia': 'http://en.wikipedia.org/wiki/Pieter_Bruegel_the_Elder', 'paintings': 134}, 'Marc Chagall': {'id': 22, 'years': '1887 - 1985', 'genre': 'Primitivism', 'nationality': 'French,Jewish,Belarusian', 'bio': 'Marc Zakharovich Chagall ( shə-GAHL; born Moishe Zakharovich Shagal; 6 July [O.S. 24 June] 1887 – 28 March 1985) was a Russian-French artist of Belarusian Jewish origin. An early modernist, he was associated with several major artistic styles  and created works in virtually every artistic format, including painting, book illustrations, stained glass, stage sets, ceramic, tapestries and fine art prints.', 'wikipedia': 'http://en.wikipedia.org/wiki/Marc_Chagall', 'paintings': 239}, 'Giotto di Bondone': {'id': 23, 'years': '1266 - 1337', 'genre': 'Proto Renaissance', 'nationality': 'Italian', 'bio': 'Giotto di Bondone (Italian pronunciation: [ˈdʒɔtto di bonˈdoːne]; c. 1267 – January 8, 1337), known mononymously as Giotto (English: ) and Latinised as Giottus, was an Italian painter and architect from Florence during the Late Middle Ages. He worked during the Gothic/Proto-Renaissance period.Giotto\\'s contemporary, the banker and chronicler Giovanni Villani, wrote that Giotto was \"the most sovereign master of painting in his time, who drew all his figures and their postures according to nature\" and of his publicly recognized \"talent and excellence\".In his Lives of the Most Excellent Painters, Sculptors, and Architects, Giorgio Vasari described Giotto as making a decisive break with the prevalent Byzantine style and as initiating \"the great art of painting as we know it today, introducing the technique of drawing accurately from life, which had been neglected for more than two hundred years\".Giotto\\'s masterwork is the decoration of the Scrovegni Chapel, in Padua, also known as the Arena Chapel, which was completed around 1305. The fresco cycle depicts the Life of the Virgin and the Life of Christ. It is regarded as one of the supreme masterpieces of the Early Renaissance.That Giotto painted the Arena Chapel and that he was chosen by the Commune of Florence in 1334 to design the new campanile (bell tower) of the Florence Cathedral are among the few certainties about his life. Almost every other aspect of it is subject to controversy: his birth date, his birthplace, his appearance, his apprenticeship, the order in which he created his works, whether or not he painted the famous frescoes in the Upper Basilica of Saint Francis in Assisi and his burial place.', 'wikipedia': 'http://en.wikipedia.org/wiki/Giotto_di_Bondone', 'paintings': 119}, 'Sandro Botticelli': {'id': 24, 'years': '1445 - 1510', 'genre': 'Early Renaissance', 'nationality': 'Italian', 'bio': 'Alessandro (c. 1445 – May 17, 1510), known as Sandro Botticelli (Italian: [ˈsandro bottiˈtʃɛlli]), was an Italian painter of the Early Renaissance. He belonged to the Florentine School under the patronage of Lorenzo de\\' Medici, a movement that Giorgio Vasari would characterize less than a hundred years later in his Vita of Botticelli as a \"golden age\". Botticelli\\'s posthumous reputation suffered until the late 19th century; since then, his work has been seen to represent the linear grace of Early Renaissance painting.', 'wikipedia': 'http://en.wikipedia.org/wiki/Sandro_Botticelli', 'paintings': 164}, 'Caravaggio': {'id': 25, 'years': '1571 - 1610', 'genre': 'Baroque', 'nationality': 'Italian', 'bio': 'Michelangelo Merisi (Michele Angelo Merigi or Amerighi) da Caravaggio (, US: , Italian pronunciation: [mikeˈlandʒelo meˈriːzi da (k)karaˈvaddʒo]; 28 September 1571 – 18 July 1610) was an Italian painter active in Rome, Naples, Malta, and Sicily from the early 1590s to 1610. His paintings combine a realistic observation of the human state, both physical and emotional, with a dramatic use of lighting, which had a formative influence on Baroque painting.Caravaggio employed close physical observation with a dramatic use of chiaroscuro that came to be known as tenebrism. He made the technique a dominant stylistic element, darkening shadows and transfixing subjects in bright shafts of light. Caravaggio vividly expressed crucial moments and scenes, often featuring violent struggles, torture and death. He worked rapidly, with live models, preferring to forgo drawings and work directly onto the canvas. His influence on the new Baroque style that emerged from Mannerism was profound. It can be seen directly or indirectly in the work of Peter Paul Rubens, Jusepe de Ribera, Gian Lorenzo Bernini, and Rembrandt, and artists in the following generation heavily under his influence were called the \"Caravaggisti\" or \"Caravagesques\", as well as tenebrists or tenebrosi (\"shadowists\").', 'wikipedia': 'http://en.wikipedia.org/wiki/Caravaggio', 'paintings': 55}, 'Leonardo da Vinci': {'id': 26, 'years': '1452 - 1519', 'genre': 'High Renaissance', 'nationality': 'Italian', 'bio': 'Leonardo di ser Piero da Vinci (Italian: [leoˈnardo di ˌsɛr ˈpjɛːro da (v)ˈvintʃi] (listen); 15 April 1452 – 2 May 1519), more commonly Leonardo da Vinci or simply Leonardo, was an Italian polymath of the Renaissance whose areas of interest included invention, drawing, painting, sculpting, architecture, science, music, mathematics, engineering, literature, anatomy, geology, astronomy, botany, writing, history, and cartography. He has been variously called the father of palaeontology, ichnology, and architecture, and he is widely considered one of the greatest painters of all time. Sometimes credited with the inventions of the parachute, helicopter, and tank, he epitomised the Renaissance humanist ideal.', 'wikipedia': 'http://en.wikipedia.org/wiki/Leonardo_da_Vinci', 'paintings': 143}, 'Diego Velazquez': {'id': 27, 'years': '1599 - 1660', 'genre': 'Baroque', 'nationality': 'Spanish', 'bio': 'Diego Rodríguez de Silva y Velázquez (Spanish: [ˈdjeɣo βeˈlaθkeθ]; baptized June 6, 1599 – August 6, 1660) was a Spanish painter, the leading artist in the court of King Philip IV, and one of the most important painters of the Spanish Golden Age. He was an individualistic artist of the contemporary Baroque period. In addition to numerous renditions of scenes of historical and cultural significance, he painted scores of portraits of the Spanish royal family, other notable European figures, and commoners, culminating in the production of his masterpiece Las Meninas (1656).', 'wikipedia': 'http://en.wikipedia.org/wiki/Diego_Velázquez', 'paintings': 128}, 'Henri Matisse': {'id': 28, 'years': '1869 - 1954', 'genre': 'Impressionism,Post-Impressionism', 'nationality': 'French', 'bio': 'Henri Émile Benoît Matisse (French: [ɑ̃ʁi emil bənwɑ matis]; 31 December 1869 – 3 November 1954) was a French artist, known for both his use of colour and his fluid and original draughtsmanship. He was a draughtsman, printmaker, and sculptor, but is known primarily as a painter.', 'wikipedia': 'http://en.wikipedia.org/wiki/Henri_Matisse', 'paintings': 186}, 'Jan van Eyck': {'id': 29, 'years': '1395 - 1441', 'genre': 'Northern Renaissance', 'nationality': 'Flemish', 'bio': \"Jan van Eyck (Dutch: [ˈjɑn vɑn ˈɛik]) (before c. 1390 – 9 July 1441) was an Early Netherlandish painter active in Bruges. He is  one of the founders of Early Netherlandish painting and one of the most significant representatives of Early Northern Renaissance art. The few surviving records of his early life indicate that he was born around 1380–1390, most likely in Maaseik. He took employment in the Hague around 1422, when he was already a master painter with workshop assistants, and employed as painter and valet de chambre with John III the Pitiless, ruler of Holland and Hainaut. He was then employed in Lille as court painter to Philip the Good, Duke of Burgundy after John's death in 1425, until he moved to Bruges in 1429 where he lived until his death. He was highly regarded by Philip and undertook a number of diplomatic visits abroad, including to Lisbon in 1428 to explore the possibility of a marriage contract between the duke and Isabella of Portugal.About 20 surviving paintings are confidently attributed to him, as well as the Ghent Altarpiece and the illuminated miniatures of the Turin-Milan Hours, all dated between 1432 and 1439. Ten are dated and signed with a variation of his motto ALS IK KAN (As I (Eyck) can), a pun on his name, which he typically painted in Greek characters.\", 'wikipedia': 'http://en.wikipedia.org/wiki/Jan_van_Eyck', 'paintings': 81}, 'Edgar Degas': {'id': 30, 'years': '1834 - 1917', 'genre': 'Impressionism', 'nationality': 'French', 'bio': 'Edgar Degas (US:  or UK: ; born Hilaire-Germain-Edgar De Gas, French: [ilɛːʁ ʒɛʁmɛ̃ ɛdɡaʁ də ɡɑ]; 19 July 1834 – 27 September 1917) was a French artist famous for his paintings, sculptures, prints, and drawings. He is especially identified with the subject of dance; more than half of his works depict dancers. Regarded as one of the founders of Impressionism, he rejected the term, preferring to be called a realist. He was a superb draftsman, and particularly masterly in depicting movement, as can be seen in his rendition of dancers, racecourse subjects and female nudes. His portraits are notable for their psychological complexity and for their portrayal of human isolation.At the beginning of his career, Degas wanted to be a history painter, a calling for which he was well prepared by his rigorous academic training and close study of classical art. In his early thirties, he changed course, and by bringing the traditional methods of a history painter to bear on contemporary subject matter, he became a classical painter of modern life.', 'wikipedia': 'http://en.wikipedia.org/wiki/Edgar_Degas', 'paintings': 702}, 'Rembrandt': {'id': 31, 'years': '1606 - 1669', 'genre': 'Baroque', 'nationality': 'Dutch', 'bio': \"Rembrandt Harmenszoon van Rijn (; Dutch: [ˈrɛmbrɑnt ˈɦɑrmə(n)soːn vɑn ˈrɛin] (listen); July 15, 1606 – October 4, 1669) was a Dutch draughtsman, painter and printmaker. An innovative and prolific master in three media, he is generally considered one of the greatest visual artists in the history of art and the most important in Dutch art history. Unlike most Dutch masters of the 17th century, Rembrandt's works depict a wide range of style and subject matter, from portraits and self-portraits to landscapes, genre scenes, allegorical and historical scenes, biblical and mythological themes as well as animal studies. His contributions to art came in a period of great wealth and cultural achievement that historians call the Dutch Golden Age, when Dutch art (especially Dutch painting), although in many ways antithetical to the Baroque style that dominated Europe, was extremely prolific and innovative, and gave rise to important new genres. Like many artists of the Dutch Golden Age, such as Jan Vermeer of Delft, Rembrandt was also an avid art collector and dealer.\", 'wikipedia': 'http://en.wikipedia.org/wiki/Rembrandt', 'paintings': 262}, 'Titian': {'id': 32, 'years': '1488 - 1576', 'genre': 'High Renaissance,Mannerism', 'nationality': 'Italian', 'bio': 'Tiziano Vecelli or Tiziano Vecellio (pronounced [titˈtsjaːno veˈtʃɛlljo]; c. 1488/1490 – 27 August 1576), known in English as Titian , was an Italian painter, the most important member of the 16th-century Venetian school. He was born in Pieve di Cadore, near Belluno, then in the Republic of Venice). During his lifetime he was often called da Cadore, taken from the place of his birth.', 'wikipedia': 'http://en.wikipedia.org/wiki/Titian', 'paintings': 255}, 'Henri de Toulouse-Lautrec': {'id': 33, 'years': '1864 – 1901', 'genre': 'Post-Impressionism', 'nationality': 'French', 'bio': 'Henri Marie Raymond de Toulouse-Lautrec-Monfa (24 November 1864 – 9 September 1901), also known as Henri de Toulouse-Lautrec (French: [ɑ̃ʁi də tuluz lotʁɛk]), was a French painter, printmaker, draughtsman, caricaturist, and illustrator whose immersion in the colourful and theatrical life of Paris in the late 19th century allowed him to produce a collection of enticing, elegant, and provocative images of the modern, sometimes decadent, affairs of those times.', 'wikipedia': 'https://en.wikipedia.org/wiki/Henri_de_Toulouse-Lautrec', 'paintings': 81}, 'Gustave Courbet': {'id': 34, 'years': '1819 - 1877', 'genre': 'Realism', 'nationality': 'French', 'bio': 'Jean Désiré Gustave Courbet (French: [ɡystav kuʁbɛ]; 10 June 1819 – 31 December 1877) was a French painter who led the Realism movement in 19th-century French painting. Committed to painting only what he could see, he rejected academic convention and the Romanticism of the previous generation of visual artists. His independence set an example that was important to later artists, such as the Impressionists and the Cubists. Courbet occupies an important place in 19th-century French painting as an innovator and as an artist willing to make bold social statements through his work.', 'wikipedia': 'https://en.wikipedia.org/wiki/Gustave_Courbet', 'paintings': 59}, 'Camille Pissarro': {'id': 35, 'years': '1830 - 1903', 'genre': 'Impressionism,Post-Impressionism', 'nationality': 'French', 'bio': 'Camille Pissarro (French: [kamij pisaʁo]; 10 July 1830 – 13 November 1903) was a Danish-French Impressionist and Neo-Impressionist painter born on the island of St Thomas (now in the US Virgin Islands, but then in the Danish West Indies). His importance resides in his contributions to both Impressionism and Post-Impressionism. Pissarro studied from great forerunners, including Gustave Courbet and Jean-Baptiste-Camille Corot. He later studied and worked alongside Georges Seurat and Paul Signac when he took on the Neo-Impressionist style at the age of 54.', 'wikipedia': 'https://en.wikipedia.org/wiki/Camille_Pissarro', 'paintings': 91}, 'William Turner': {'id': 36, 'years': '1775 - 1851', 'genre': 'Romanticism', 'nationality': 'British', 'bio': 'Joseph Mallord William Turner  (23 April 1775 – 19 December 1851), known as J. M. W. Turner and contemporarily as William Turner, was an English Romantic painter, printmaker and watercolourist. He is known for his expressive colourisations, imaginative landscapes and turbulent, often violent marine paintings.', 'wikipedia': 'https://en.wikipedia.org/wiki/J._M._W._Turner', 'paintings': 66}, 'Edvard Munch': {'id': 37, 'years': '1863 - 1944', 'genre': 'Symbolism,Expressionism', 'nationality': 'Norwegian', 'bio': 'Edvard Munch (; Norwegian: [ˈɛdvɑʈ ˈmʊŋk] (listen); 12 December 1863 – 23 January 1944) was a Norwegian painter, whose best known work, The Scream, has become one of the most iconic images of world art.', 'wikipedia': 'https://en.wikipedia.org/wiki/Edvard_Munch', 'paintings': 67}, 'Paul Cezanne': {'id': 38, 'years': '1839 – 1906', 'genre': 'Post-Impressionism', 'nationality': 'French', 'bio': \"Paul Cézanne (US:  or UK: ; French: [pɔl sezan]; 19 January 1839 – 22 October 1906) was a French artist and Post-Impressionist painter whose work laid the foundations of the transition from the 19th-century conception of artistic endeavor to a new and radically different world of art in the 20th century. Cézanne's often repetitive, exploratory brushstrokes are highly characteristic and clearly recognizable. He used planes of colour and small brushstrokes that build up to form complex fields. The paintings convey Cézanne's intense study of his subjects.\", 'wikipedia': 'https://en.wikipedia.org/wiki/Paul_Cézanne', 'paintings': 47}, 'Eugene Delacroix': {'id': 39, 'years': '1798 – 1863', 'genre': 'Romanticism', 'nationality': 'French', 'bio': \"Ferdinand Victor Eugène Delacroix (; French: [ø.ʒɛn də.la.kʁwa]; 26 April 1798 – 13 August 1863) was a French Romantic artist regarded from the outset of his career as the leader of the French Romantic school.As a painter and muralist, Delacroix's use of expressive brushstrokes and his study of the optical effects of colour profoundly shaped the work of the Impressionists, while his passion for the exotic inspired the artists of the Symbolist movement. A fine lithographer, Delacroix illustrated various works of William Shakespeare, the Scottish author Walter Scott and the German author Johann Wolfgang von Goethe.\", 'wikipedia': 'https://en.wikipedia.org/wiki/Eugène_Delacroix', 'paintings': 31}, 'Henri Rousseau': {'id': 40, 'years': '1844 – 1910', 'genre': 'Primitivism', 'nationality': 'French', 'bio': \"Henri Julien Félix Rousseau (French: [ɑ̃ʁi ʒyljɛ̃ feliks ʁuso]; May 21, 1844 – September 2, 1910) was a French post-impressionist painter in the Naïve or Primitive manner.  He was also known as Le Douanier (the customs officer), a humorous description of his occupation as a toll and tax collector. He started painting seriously in his early forties; by age 49, he retired from his job to work on his art full-time.Ridiculed during his lifetime by critics, he came to be recognized as a self-taught genius whose works are of high artistic quality. Rousseau's work exerted an extensive influence on several generations of avant-garde artists.\", 'wikipedia': 'https://en.wikipedia.org/wiki/Henri_Rousseau', 'paintings': 70}, 'Georges Seurat': {'id': 41, 'years': '1859 – 1891', 'genre': 'Post-Impressionism', 'nationality': 'French', 'bio': \"Georges-Pierre Seurat (French: [ʒɔʁʒ pjɛʁ sœʁa]; 2 December 1859 – 29 March 1891) was a French post-Impressionist artist. He is best known for devising the painting techniques known as chromoluminarism and pointillism. While less famous than his paintings, his conté crayon drawings have also garnered a great deal of critical appreciation.  Seurat's artistic personality was compounded of qualities which are usually supposed to be opposed and incompatible: on the one hand, his extreme and delicate sensibility; on the other, a passion for logical abstraction and an almost mathematical precision of mind. His large-scale work, A Sunday Afternoon on the Island of La Grande Jatte (1884–1886), altered the direction of modern art by initiating Neo-impressionism, and is one of the icons of late 19th-century painting.\", 'wikipedia': 'https://en.wikipedia.org/wiki/Georges_Seurat', 'paintings': 43}, 'Paul Klee': {'id': 42, 'years': '1879 – 1940', 'genre': 'Expressionism,Abstractionism,Surrealism', 'nationality': 'German,Swiss', 'bio': \"Paul Klee (German: [paʊ̯l ˈkleː]; 18 December 1879 – 29 June 1940) was a Swiss German artist. His highly individual style was influenced by movements in art that included  Expressionism, Cubism, and Surrealism. Klee was a natural draftsman who experimented with and eventually deeply explored color theory, writing about it extensively; his lectures Writings on Form and Design Theory (Schriften zur Form und Gestaltungslehre), published in English as the Paul Klee Notebooks, are held to be as important for modern art as Leonardo da Vinci's A Treatise on Painting for the Renaissance. He and his colleague, Russian painter Wassily Kandinsky, both taught at the Bauhaus school of art, design and architecture. His works reflect his dry humor and his sometimes childlike perspective, his personal moods and beliefs, and his musicality.\", 'wikipedia': 'https://en.wikipedia.org/wiki/Paul_Klee', 'paintings': 188}, 'Piet Mondrian': {'id': 43, 'years': '1872 – 1944', 'genre': 'Neoplasticism', 'nationality': 'Dutch', 'bio': \"Pieter Cornelis Mondriaan, after 1906 Piet Mondrian (; Dutch: [ˈpit ˈmɔndrijaːn], later [ˈmɔndrijɑn]; 7 March 1872 – 1 February 1944), was a Dutch painter and theoretician who is regarded as one of the greatest artists of the 20th century. He is known for being one of the pioneers of 20th century abstract art, as he changed his artistic direction from figurative painting to an increasingly abstract style, until he reached a point where his artistic vocabulary was reduced to simple geometric elements.Mondrian's art was highly utopian and was concerned with a search for universal values and aesthetics. He proclaimed in 1914: Art is higher than reality and has no direct relation to reality. To approach the spiritual in art, one will make as little use as possible of reality, because reality is opposed to the spiritual. We find ourselves in the presence of an abstract art. Art should be above reality, otherwise it would have no value for man. His art, however, always remained rooted in nature. \", 'wikipedia': 'https://en.wikipedia.org/wiki/Piet_Mondrian', 'paintings': 84}, 'Joan Miro': {'id': 44, 'years': '1893 – 1983', 'genre': 'Surrealism', 'nationality': 'Spanish', 'bio': 'Joan Miró i Ferrà (; Catalan: [ʒuˈam miˈɾo j fəˈra]; 20 April 1893 – 25 December 1983) was a Spanish painter, sculptor, and ceramicist born in Barcelona. A museum dedicated to his work, the Fundació Joan Miró, was established in his native city of Barcelona in 1975, and another, the Fundació Pilar i Joan Miró, was established in his adoptive city of Palma de Mallorca in 1981.', 'wikipedia': 'https://en.wikipedia.org/wiki/Joan_Miró', 'paintings': 102}, 'Andy Warhol': {'id': 45, 'years': '1928 – 1987', 'genre': 'Pop Art', 'nationality': 'American', 'bio': \"Andy Warhol (; born Andrew Warhola; August 6, 1928 – February 22, 1987) was an American artist, director and producer who was a leading figure in the visual art movement known as pop art. His works explore the relationship between artistic expression, celebrity culture, and advertising that flourished by the 1960s, and span a variety of media, including painting, silkscreening, photography, film, and sculpture. Some of his best known works include the silkscreen paintings Campbell's Soup Cans (1962) and Marilyn Diptych (1962), the experimental film Chelsea Girls (1966), and the multimedia events known as the Exploding Plastic Inevitable (1966–67).\", 'wikipedia': 'https://en.wikipedia.org/wiki/Andy_Warhol', 'paintings': 181}, 'Paul Gauguin': {'id': 46, 'years': '1848 – 1903', 'genre': 'Symbolism,Post-Impressionism', 'nationality': 'French', 'bio': 'Eugène Henri Paul Gauguin (UK: , US: ; French: [øʒɛn ɑ̃ʁi pɔl ɡoɡɛ̃]; 7 June 1848 – 8 May 1903) was a French post-Impressionist artist. Unappreciated until after his death, Gauguin is now recognized for his experimental use of color and Synthetist style that were distinctly different from Impressionism. Toward the end of his life, he spent ten years in French Polynesia, and most of his paintings from this time depict people or landscapes from that region.', 'wikipedia': 'http://en.wikipedia.org/wiki/Paul_Gauguin', 'paintings': 311}, 'Raphael': {'id': 47, 'years': '1483 – 1520', 'genre': 'High Renaissance', 'nationality': 'Italian', 'bio': 'Raffaello Sanzio da Urbino (Italian: [raffaˈɛllo ˈsantsjo da urˈbiːno]; March 28 or April 6, 1483 – April 6, 1520), known as Raphael (, US: ), was an Italian painter and architect of the High Renaissance. His work is admired for its clarity of form, ease of composition, and visual achievement of the Neoplatonic ideal of human grandeur. Together with Michelangelo and Leonardo da Vinci, he forms the traditional trinity of great masters of that period.Raphael was enormously productive, running an unusually large workshop and, despite his death at 37, leaving a large body of work. Many of his works are found in the Vatican Palace, where the frescoed Raphael Rooms were the central, and the largest, work of his career. The best known work is The School of Athens in the Vatican Stanza della Segnatura. After his early years in Rome much of his work was executed by his workshop from his drawings, with considerable loss of quality. He was extremely influential in his lifetime, though outside Rome his work was mostly known from his collaborative printmaking.', 'wikipedia': 'https://en.wikipedia.org/wiki/Raphael', 'paintings': 109}, 'Michelangelo': {'id': 48, 'years': '1475 – 1564', 'genre': 'High Renaissance', 'nationality': 'Italian', 'bio': \"Michelangelo di Lodovico Buonarroti Simoni or more commonly known by his first name Michelangelo (; Italian: [mikeˈlandʒelo di lodoˈviːko ˌbwɔnarˈrɔːti siˈmoːni]; 6 March 1475 – 18 February 1564) was an Italian sculptor, painter, architect and poet of the High Renaissance born in the Republic of Florence, who exerted an unparalleled influence on the development of Western art. Considered by many the greatest artist of his lifetime, and by some the greatest artist of all time, his artistic versatility was of such a high order that he is often considered a contender for the title of the archetypal Renaissance man, along with his rival, the fellow Florentine and client of the Medici, Leonardo da Vinci.A number of Michelangelo's works of painting, sculpture and architecture rank among the most famous in existence. His output in these fields was prodigious; given the sheer volume of surviving correspondence, sketches and reminiscences, he is the best-documented artist of the 16th century. He sculpted two of his best-known works, the Pietà and David, before the age of thirty. Despite holding a low opinion of painting, he also created two of the most influential frescoes in the history of Western art: the scenes from Genesis on the ceiling of the Sistine Chapel in Rome, and The Last Judgment on its altar wall. His design of the Laurentian Library pioneered Mannerist architecture. At the age of 74, he succeeded Antonio da Sangallo the Younger as the architect of St. Peter's Basilica. He transformed the plan so that the western end was finished to his design, as was the dome, with some modification, after his death.\", 'wikipedia': 'https://en.wikipedia.org/wiki/Michelangelo', 'paintings': 49}, 'Jackson Pollock': {'id': 49, 'years': '1912 – 1956', 'genre': 'Abstract Expressionism', 'nationality': 'American', 'bio': 'Paul Jackson Pollock (; January 28, 1912 – August 11, 1956) was an American painter and a major figure in the abstract expressionist movement.', 'wikipedia': 'http://en.wikipedia.org/wiki/Jackson_Pollock', 'paintings': 24}}\n"
     ]
    }
   ],
   "source": [
    "#On va dabord rajouter les données additionelle dans un nouveau dictionnaire\n",
    "\n",
    "dir = './art-challenge/'\n",
    "path = os.path.join(dir, 'artists.csv')\n",
    "\n",
    "artist_df_2 = pd.read_csv(path)\n",
    "\n",
    "additional_data = artist_df_2.set_index(\"name\").T.to_dict() #utilise la colonne \"name\" comme index, chq artiste devient un clé\n",
    "#T.to_dict() transpose le datafram epour que chaque ligne devienne un dictionnaire de donnée par artiste\n",
    "\n",
    "#On l'affiche pour voir si ça ressemble a ce qu'on veut\n",
    "\n",
    "print(additional_data)\n",
    "\n",
    "#OK c'est bon "
   ]
  },
  {
   "cell_type": "code",
   "execution_count": 42,
   "metadata": {},
   "outputs": [],
   "source": [
    "class ArtDatasetv2(Dataset):\n",
    "    def __init__(self, image_folder, artist_to_idx, transformation, additional_data):\n",
    "        self.image_folder = image_folder\n",
    "        self.artist_to_idx = artist_to_idx\n",
    "        self.transformation = transformation\n",
    "        self.additional_data = additional_data\n",
    "        self.data = {}\n",
    "        self.image_path = []\n",
    "\n",
    "        for img_file in os.listdir(self.image_folder):\n",
    "            artist_name = img_file.rsplit('_', 1)[0]\n",
    "            if artist_name in self.artist_to_idx:\n",
    "                artist_name_nospace = artist_name.replace('_', ' ')\n",
    "                label = self.artist_to_idx[artist_name]\n",
    "                img_path = os.path.join(self.image_folder, img_file)\n",
    "                additional_info = self.additional_data.get(artist_name_nospace, {})\n",
    "\n",
    "                # Ajouter toutes les informations supplémentaires à `self.data`\n",
    "                self.data[img_path] = {\n",
    "                    \"label\": label,\n",
    "                    \"years\": additional_info.get(\"years\", \"Unknown\"),\n",
    "                    \"genre\": additional_info.get(\"genre\", \"Unknown\"),\n",
    "                    \"nationality\": additional_info.get(\"nationality\", \"Unknown\"),\n",
    "                    \"bio\": additional_info.get(\"bio\", \"Unknown\"),\n",
    "                    \"wikipedia\": additional_info.get(\"wikipedia\", \"Unknown\"),\n",
    "                    \"paintings\": additional_info.get(\"paintings\", \"Unknown\")\n",
    "                }\n",
    "                self.image_path.append(img_path)\n",
    "            else:\n",
    "                print(f\"Avertissement : '{artist_name}' n'est pas dans artist_to_idx\")\n",
    "\n",
    "    def __len__(self):\n",
    "        return len(self.data)\n",
    "\n",
    "    def __getitem__(self, index):\n",
    "        img_path = self.image_path[index]\n",
    "        image = Image.open(img_path).convert('RGB')\n",
    "        \n",
    "        if self.transformation:\n",
    "            image = self.transformation(image)\n",
    "        \n",
    "        # Récupérer toutes les informations stockées dans `self.data`\n",
    "        data_info = self.data[img_path]\n",
    "        label = data_info[\"label\"]\n",
    "        years = data_info[\"years\"]\n",
    "        genre = data_info[\"genre\"]\n",
    "        nationality = data_info[\"nationality\"]\n",
    "        bio = data_info[\"bio\"]\n",
    "        wikipedia = data_info[\"wikipedia\"]\n",
    "        paintings = data_info[\"paintings\"]\n",
    "\n",
    "        return image, label, years, genre, nationality, bio, wikipedia, paintings\n"
   ]
  },
  {
   "cell_type": "code",
   "execution_count": 43,
   "metadata": {},
   "outputs": [
    {
     "name": "stdout",
     "output_type": "stream",
     "text": [
      "(tensor([[[0.8789, 0.7933, 0.6563,  ..., 0.4337, 0.4851, 0.4337],\n",
      "         [0.6563, 0.6221, 0.6221,  ..., 0.1768, 0.2282, 0.2796],\n",
      "         [0.5193, 0.4508, 0.4337,  ..., 0.1426, 0.1083, 0.2282],\n",
      "         ...,\n",
      "         [0.8104, 0.6563, 0.6049,  ..., 0.8276, 0.8104, 0.8447],\n",
      "         [0.8618, 0.7419, 0.6906,  ..., 0.7933, 0.8104, 0.8789],\n",
      "         [0.8789, 0.7419, 0.6734,  ..., 0.8104, 0.8789, 0.8961]],\n",
      "\n",
      "        [[1.0280, 0.9405, 0.8004,  ..., 0.5728, 0.6254, 0.5728],\n",
      "         [0.8004, 0.7654, 0.7654,  ..., 0.3102, 0.3627, 0.4153],\n",
      "         [0.6604, 0.5903, 0.5728,  ..., 0.2752, 0.2402, 0.3627],\n",
      "         ...,\n",
      "         [0.9580, 0.8004, 0.7479,  ..., 0.9755, 0.9580, 0.9930],\n",
      "         [1.0105, 0.8880, 0.8354,  ..., 0.9405, 0.9580, 1.0280],\n",
      "         [1.0280, 0.8880, 0.8179,  ..., 0.9580, 1.0280, 1.0455]],\n",
      "\n",
      "        [[1.2457, 1.1585, 1.0191,  ..., 0.7925, 0.8448, 0.7925],\n",
      "         [1.0191, 0.9842, 0.9842,  ..., 0.5311, 0.5834, 0.6356],\n",
      "         [0.8797, 0.8099, 0.7925,  ..., 0.4962, 0.4614, 0.5834],\n",
      "         ...,\n",
      "         [1.1759, 1.0191, 0.9668,  ..., 1.1934, 1.1759, 1.2108],\n",
      "         [1.2282, 1.1062, 1.0539,  ..., 1.1585, 1.1759, 1.2457],\n",
      "         [1.2457, 1.1062, 1.0365,  ..., 1.1759, 1.2457, 1.2631]]]), 19, '1471 - 1528', 'Northern Renaissance', 'German', 'Albrecht Dürer (; German: [ˈʔalbʁɛçt ˈdyːʁɐ]; 21 May 1471 – 6 April 1528) sometimes spelt in English as Durer or Duerer, without umlaut, was a painter, printmaker, and theorist of the German Renaissance. Born in Nuremberg, Dürer established his reputation and influence across Europe when he was still in his twenties due to his high-quality woodcut prints.', 'http://en.wikipedia.org/wiki/Albrecht_Dürer', 328)\n"
     ]
    }
   ],
   "source": [
    "from torch.utils.data import DataLoader\n",
    "\n",
    "lq_folder = './art-challenge/images_lq'\n",
    "\n",
    "transformation = transforms.Compose([\n",
    "    transforms.Resize((224, 224)),  # Taille d'entrée ResNet50\n",
    "    transforms.ToTensor(),  #redim les valeurs de pixels de [0, 255] à [0, 1] et c'est les tenseurs sont les formats requis pour des réseaux de neuronnes Pytorch\n",
    "    transforms.Normalize([0.485, 0.456, 0.406], [0.229, 0.224, 0.225])  # Normalisation pour ResNet, Ces valeurs sont calculées à partir de la base de données ImageNet (sur laquelle ResNet est pré-entraîné)\n",
    "])\n",
    "\n",
    "dataset = ArtDatasetv2(\n",
    "    image_folder=lq_folder,\n",
    "    artist_to_idx=artist_to_idx,\n",
    "    transformation=transformation,\n",
    "    additional_data=additional_data\n",
    ")\n",
    "\n",
    "# Créez le DataLoader\n",
    "train_size = int(len(dataset)*0.7) #On prend 80% pour le training, Attention on peut pas prendre de float!\n",
    "val_size = int(len(dataset)*0.15)\n",
    "test_size = len(dataset) - train_size - val_size\n",
    "\n",
    "train_dataset, val_dataset ,test_dataset = torch.utils.data.random_split(dataset, [train_size, val_size ,test_size])\n",
    "#La c'est des sous-ensemble du dataset initial \n",
    "\n",
    "train_loader = DataLoader(train_dataset, batch_size=32, shuffle=True)\n",
    "#Plus besoin de shuffle ici vu que ça fait plus parti de l'entrainement du model\n",
    "val_loader = DataLoader(val_dataset, batch_size=32, shuffle=False)\n",
    "test_loader = DataLoader(test_dataset, batch_size=32, shuffle=False)\n",
    "\n",
    "print(dataset[0])"
   ]
  },
  {
   "cell_type": "markdown",
   "metadata": {},
   "source": [
    "#### Maintenant il faut réussir a intégrer ces nouvelles données au model. Il faut pouvoir traiter les données textuel, "
   ]
  },
  {
   "cell_type": "code",
   "execution_count": 44,
   "metadata": {},
   "outputs": [],
   "source": [
    "import torch\n",
    "import torch.nn as nn\n",
    "from torchvision import models\n",
    "\n",
    "class ArtModelv2(nn.Module):\n",
    "    def __init__(self, num_classes, genre_vocab_size, nationality_vocab_size, years_vocab_size, bio_vocab_size, wikipedia_vocab_size, paintings_vocab_size, embedding_dim=50):\n",
    "        super(ArtModelv2, self).__init__()\n",
    "        \n",
    "        # Modèle pour les images (ex. ResNet50)\n",
    "        self.image_model = models.resnet50(weights='DEFAULT')\n",
    "        self.image_model.fc = nn.Identity()  # Retire la dernière couche pour obtenir les features\n",
    "        \n",
    "        # Embeddings pour genre et nationalité et les autres info\n",
    "        self.genre_embedding = nn.Embedding(genre_vocab_size, embedding_dim)\n",
    "        self.years_embedding = nn.Embedding(years_vocab_size, embedding_dim)\n",
    "        self.bio_embedding = nn.Embedding(bio_vocab_size, embedding_dim)\n",
    "        self.wikipedia_embedding = nn.Embedding(wikipedia_vocab_size, embedding_dim)\n",
    "        self.paintings_embedding = nn.Embedding(paintings_vocab_size, embedding_dim)\n",
    "        self.nationality_embedding = nn.Embedding(nationality_vocab_size, embedding_dim)\n",
    "        \n",
    "        # Couche fully connected pour combiner les features\n",
    "        self.fc = nn.Linear(2048 + 2 * embedding_dim, num_classes)\n",
    "    \n",
    "    def forward(self, image, genre, years, wikipedia, paintings, bio, nationality):\n",
    "        # Extraire les features d'image\n",
    "        image_features = self.image_model(image)\n",
    "        \n",
    "        # Embeddings pour genre et nationalité\n",
    "        genre_features = self.genre_embedding(genre)\n",
    "        years_features = self.years_embedding(years)\n",
    "        bio_features = self.bio_embedding(bio)\n",
    "        wikipedia_features = self.wikipedia_embedding(wikipedia)\n",
    "        paintings_features = self.paintings_embedding(paintings)\n",
    "        nationality_features = self.nationality_embedding(nationality)\n",
    "        \n",
    "        # Combiner les features\n",
    "        combined_features = torch.cat((image_features, genre_features, years_features,wikipedia_features,bio_features,paintings_features , nationality_features), dim=1)\n",
    "        \n",
    "        # Passer par une dernière couche pour prédire la classe\n",
    "        output = self.fc(combined_features)\n",
    "        \n",
    "        return output\n"
   ]
  },
  {
   "cell_type": "code",
   "execution_count": 45,
   "metadata": {},
   "outputs": [
    {
     "name": "stdout",
     "output_type": "stream",
     "text": [
      "Genre vocab size: 31\n",
      "Nationality vocab size: 17\n",
      "years vocab size: 50\n",
      "Bio vocab size: 50\n",
      "Wikipedia vocab size: 50\n",
      "Paintings vocab size: 48\n"
     ]
    }
   ],
   "source": [
    "# Regroupe toutes les valeurs uniques pour chaque clé\n",
    "genres = set()\n",
    "nationalities = set()\n",
    "years = set()\n",
    "bios = set()\n",
    "wikipedias = set()\n",
    "paintings = set()\n",
    "\n",
    "for artist_info in additional_data.values():\n",
    "    genres.add(artist_info.get('genre', 'Unknown'))\n",
    "    nationalities.add(artist_info.get('nationality', 'Unknown'))\n",
    "    years.add(artist_info.get('years', 'Unknown'))\n",
    "    bios.add(artist_info.get('bio', 'Unknown'))\n",
    "    wikipedias.add(artist_info.get('wikipedia', 'Unknown'))\n",
    "    paintings.add(artist_info.get('paintings', 'Unknown'))\n",
    "\n",
    "# Compte les éléments uniques pour chaque champ\n",
    "genre_vocab_size = len(genres)\n",
    "nationality_vocab_size = len(nationalities)\n",
    "years_vocab_size = len(years)\n",
    "bio_vocab_size = len(bios)\n",
    "wikipedia_vocab_size = len(wikipedias)\n",
    "paintings_vocab_size = len(paintings)\n",
    "\n",
    "print(\"Genre vocab size:\", genre_vocab_size)\n",
    "print(\"Nationality vocab size:\", nationality_vocab_size)\n",
    "print(\"years vocab size:\", years_vocab_size)\n",
    "print(\"Bio vocab size:\", bio_vocab_size)\n",
    "print(\"Wikipedia vocab size:\", wikipedia_vocab_size)\n",
    "print(\"Paintings vocab size:\", paintings_vocab_size)\n"
   ]
  },
  {
   "cell_type": "code",
   "execution_count": 46,
   "metadata": {},
   "outputs": [],
   "source": [
    "# Création de l'instance du modèle avec les arguments requis\n",
    "device = torch.device(\"cuda\" if torch.cuda.is_available() else \"cpu\")\n",
    "\n",
    "model = ArtModelv2(\n",
    "    num_classes=49,\n",
    "    genre_vocab_size=genre_vocab_size,\n",
    "    nationality_vocab_size=nationality_vocab_size,\n",
    "    years_vocab_size=years_vocab_size,\n",
    "    bio_vocab_size=bio_vocab_size,\n",
    "    wikipedia_vocab_size=wikipedia_vocab_size,\n",
    "    paintings_vocab_size=paintings_vocab_size,\n",
    "    embedding_dim=50  # Optionnel, sauf si tu souhaites changer la dimension par défaut\n",
    ").to(device)\n"
   ]
  },
  {
   "cell_type": "code",
   "execution_count": 47,
   "metadata": {},
   "outputs": [],
   "source": [
    "from sklearn.preprocessing import LabelEncoder\n",
    "\n",
    "# Initialisez les encodeurs\n",
    "genre_encoder = LabelEncoder()\n",
    "nationality_encoder = LabelEncoder()\n",
    "years_encoder = LabelEncoder()\n",
    "wikipedia_encoder = LabelEncoder()\n",
    "bio_encoder = LabelEncoder()\n",
    "paintings_encoder = LabelEncoder()\n",
    "\n",
    "# Entraînez-les sur toutes les valeurs uniques\n",
    "genres = [info[\"genre\"] for info in additional_data.values()]\n",
    "nationalities = [info[\"nationality\"] for info in additional_data.values()]\n",
    "years = [info[\"years\"] for info in additional_data.values()]\n",
    "wikipedias = [info[\"wikipedia\"] for info in additional_data.values()]\n",
    "bios = [info[\"bio\"] for info in additional_data.values()]\n",
    "paintings = [info[\"paintings\"] for info in additional_data.values()]\n",
    "\n",
    "genre_encoder.fit(genres)\n",
    "nationality_encoder.fit(nationalities)\n",
    "years_encoder.fit(years)\n",
    "wikipedia_encoder.fit(wikipedias)\n",
    "bio_encoder.fit(bios)\n",
    "paintings_encoder.fit(paintings)\n",
    "\n",
    "# Convertissez les genres et nationalités en indices\n",
    "for artist, info in additional_data.items():\n",
    "    info[\"genre\"] = genre_encoder.transform([info[\"genre\"]])[0]\n",
    "    info[\"nationality\"] = nationality_encoder.transform([info[\"nationality\"]])[0]\n",
    "    info[\"years\"] = years_encoder.transform([info[\"years\"]])[0]\n",
    "    info[\"wikipedia\"] = wikipedia_encoder.transform([info[\"wikipedia\"]])[0]\n",
    "    info[\"bio\"] = bio_encoder.transform([info[\"bio\"]])[0]\n",
    "    info[\"paintings\"] = paintings_encoder.transform([info[\"paintings\"]])[0]\n"
   ]
  },
  {
   "cell_type": "code",
   "execution_count": 50,
   "metadata": {},
   "outputs": [],
   "source": [
    "def trainingv2(num_epochs, model, criterion, optimizer):\n",
    "    for epoch in range(num_epochs):\n",
    "        model.train()\n",
    "        total_train_loss = []\n",
    "        t = tqdm(train_loader)\n",
    "        for image, label, years, genre, nationality, bio, wikipedia, paintings in t:\n",
    "            image, label = image.to(device), label.to(device)\n",
    "            years = years.to(device)\n",
    "            genre, nationality =genre.to(device), nationality.to(device)\n",
    "            bio, paintings, wikipedia = bio.to(device), paintings.to(device), wikipedia.to(device)\n",
    "            \n",
    "            outputs = model(image, label, years, genre, nationality, bio, wikipedia, paintings)\n",
    "            loss = criterion(outputs, label)\n",
    "            \n",
    "            optimizer.zero_grad()\n",
    "            loss.backward()\n",
    "            optimizer.step()\n",
    "            \n",
    "            total_train_loss.append(loss.item())\n",
    "        \n",
    "        avg_train_loss = sum(total_train_loss) / len(train_loader)\n",
    "\n",
    "        model.eval()\n",
    "        total_val_loss = []\n",
    "        correct = 0\n",
    "        with torch.no_grad(): #Permet de ne plus mettre a jour les poids \n",
    "            for image, label, years, genre, nationality, bio, wikipedia, paintings in val_loader:\n",
    "                image, label = image.to(device), label.to(device)\n",
    "                years = years.to(device)\n",
    "                genre, nationality =genre.to(device), nationality.to(device)\n",
    "                bio, paintings, wikipedia = bio.to(device), paintings.to(device), wikipedia.to(device)\n",
    "            \n",
    "                outputs = model(image, label, years, genre, nationality, bio, wikipedia, paintings)\n",
    "                val_loss = criterion(outputs, label)\n",
    "                _, predicted = torch.max(outputs,1) #permet d'obtenir quelle classe la plus grande proba, donc quelle a ete la prediction\n",
    "                correct += (predicted == label).sum().item() #?\n",
    "                total_val_loss.append(val_loss.item())\n",
    "\n",
    "        avg_val_loss = sum(total_val_loss)/len(val_loader)\n",
    "\n",
    "        print(f\"Epoch {epoch+1}/{num_epochs}, Train Loss: {avg_train_loss:.4f}, Avg Val Loss: {avg_val_loss:.4f}\")\n",
    "    \n",
    "    model.eval()\n",
    "    total_test_loss=[]\n",
    "    correct_test = 0\n",
    "    total_test=0\n",
    "    with torch.no_grad():\n",
    "        for image, label, years, genre, nationality, bio, wikipedia, paintings in test_loader:\n",
    "            image, label = image.to(device), label.to(device)\n",
    "            years = years.to(device)\n",
    "            genre, nationality = genre.to(device), nationality.to(device)\n",
    "            bio, paintings, wikipedia = bio.to(device), paintings.to(device), wikipedia.to(device)\n",
    "            \n",
    "            outputs = model(image, label, years, genre, nationality, bio, wikipedia, paintings)\n",
    "            test_loss = criterion(outputs, label)\n",
    "            \n",
    "            _, predicted_test = torch.max(outputs, 1)\n",
    "            correct_test += (predicted_test == label).sum().item()\n",
    "            total_test_loss.append(test_loss.item())\n",
    "            total_test += label.size(0)\n",
    "\n",
    "    avg_test_loss = sum(total_test_loss)/len(test_loader)\n",
    "    accuracy = correct_test/total_test*100\n",
    "    print(f\"Test Loss: {avg_test_loss:.4f}, test Accuracy: {accuracy:.4f} \")\n",
    "    \n",
    "        \n"
   ]
  },
  {
   "cell_type": "code",
   "execution_count": 51,
   "metadata": {},
   "outputs": [
    {
     "name": "stderr",
     "output_type": "stream",
     "text": [
      "  0%|          | 0/183 [00:00<?, ?it/s]\n"
     ]
    },
    {
     "ename": "AttributeError",
     "evalue": "'tuple' object has no attribute 'to'",
     "output_type": "error",
     "traceback": [
      "\u001b[1;31m---------------------------------------------------------------------------\u001b[0m",
      "\u001b[1;31mAttributeError\u001b[0m                            Traceback (most recent call last)",
      "Cell \u001b[1;32mIn[51], line 3\u001b[0m\n\u001b[0;32m      1\u001b[0m criterion \u001b[38;5;241m=\u001b[39m nn\u001b[38;5;241m.\u001b[39mCrossEntropyLoss()\n\u001b[0;32m      2\u001b[0m optimize \u001b[38;5;241m=\u001b[39m optim\u001b[38;5;241m.\u001b[39mAdam(model\u001b[38;5;241m.\u001b[39mparameters(), lr\u001b[38;5;241m=\u001b[39m\u001b[38;5;241m0.001\u001b[39m)\n\u001b[1;32m----> 3\u001b[0m \u001b[43mtrainingv2\u001b[49m\u001b[43m(\u001b[49m\u001b[38;5;241;43m10\u001b[39;49m\u001b[43m,\u001b[49m\u001b[43m \u001b[49m\u001b[43mmodel\u001b[49m\u001b[43m,\u001b[49m\u001b[43m \u001b[49m\u001b[43mcriterion\u001b[49m\u001b[43m,\u001b[49m\u001b[43m \u001b[49m\u001b[43moptimize\u001b[49m\u001b[43m)\u001b[49m\n",
      "Cell \u001b[1;32mIn[50], line 8\u001b[0m, in \u001b[0;36mtrainingv2\u001b[1;34m(num_epochs, model, criterion, optimizer)\u001b[0m\n\u001b[0;32m      6\u001b[0m \u001b[38;5;28;01mfor\u001b[39;00m image, label, years, genre, nationality, bio, wikipedia, paintings \u001b[38;5;129;01min\u001b[39;00m t:\n\u001b[0;32m      7\u001b[0m     image, label \u001b[38;5;241m=\u001b[39m image\u001b[38;5;241m.\u001b[39mto(device), label\u001b[38;5;241m.\u001b[39mto(device)\n\u001b[1;32m----> 8\u001b[0m     years \u001b[38;5;241m=\u001b[39m torch\u001b[38;5;241m.\u001b[39mtensor([years_encoder(years)], device\u001b[38;5;241m=\u001b[39mdevice) \u001b[38;5;28;01mif\u001b[39;00m \u001b[38;5;28misinstance\u001b[39m(years, \u001b[38;5;28mstr\u001b[39m) \u001b[38;5;28;01melse\u001b[39;00m \u001b[43myears\u001b[49m\u001b[38;5;241;43m.\u001b[39;49m\u001b[43mto\u001b[49m(device)\n\u001b[0;32m      9\u001b[0m     genre, nationality \u001b[38;5;241m=\u001b[39mgenre\u001b[38;5;241m.\u001b[39mto(device), nationality\u001b[38;5;241m.\u001b[39mto(device)\n\u001b[0;32m     10\u001b[0m     bio, paintings, wikipedia \u001b[38;5;241m=\u001b[39m bio\u001b[38;5;241m.\u001b[39mto(device), paintings\u001b[38;5;241m.\u001b[39mto(device), wikipedia\u001b[38;5;241m.\u001b[39mto(device)\n",
      "\u001b[1;31mAttributeError\u001b[0m: 'tuple' object has no attribute 'to'"
     ]
    }
   ],
   "source": [
    "criterion = nn.CrossEntropyLoss()\n",
    "optimize = optim.Adam(model.parameters(), lr=0.001)\n",
    "trainingv2(10, model, criterion, optimize)"
   ]
  },
  {
   "cell_type": "code",
   "execution_count": null,
   "metadata": {},
   "outputs": [],
   "source": []
  }
 ],
 "metadata": {
  "kernelspec": {
   "display_name": "Python 3",
   "language": "python",
   "name": "python3"
  },
  "language_info": {
   "codemirror_mode": {
    "name": "ipython",
    "version": 3
   },
   "file_extension": ".py",
   "mimetype": "text/x-python",
   "name": "python",
   "nbconvert_exporter": "python",
   "pygments_lexer": "ipython3",
   "version": "3.12.6"
  }
 },
 "nbformat": 4,
 "nbformat_minor": 2
}
